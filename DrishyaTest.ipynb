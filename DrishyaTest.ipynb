{
  "nbformat": 4,
  "nbformat_minor": 0,
  "metadata": {
    "colab": {
      "provenance": [],
      "mount_file_id": "1G9a35H01WH8hkVro2aK9spT6v8H1Kqyx",
      "authorship_tag": "ABX9TyOibu6yuw5VePzMtcrltPgz",
      "include_colab_link": true
    },
    "kernelspec": {
      "name": "python3",
      "display_name": "Python 3"
    },
    "language_info": {
      "name": "python"
    }
  },
  "cells": [
    {
      "cell_type": "markdown",
      "metadata": {
        "id": "view-in-github",
        "colab_type": "text"
      },
      "source": [
        "<a href=\"https://colab.research.google.com/github/poorna-rao/code-colab/blob/main/DrishyaTest.ipynb\" target=\"_parent\"><img src=\"https://colab.research.google.com/assets/colab-badge.svg\" alt=\"Open In Colab\"/></a>"
      ]
    },
    {
      "cell_type": "code",
      "execution_count": 23,
      "metadata": {
        "id": "l3BP7UEmqcuz"
      },
      "outputs": [],
      "source": [
        "import csv"
      ]
    },
    {
      "cell_type": "code",
      "source": [
        "import json"
      ],
      "metadata": {
        "id": "u13EI5mxq_5j"
      },
      "execution_count": 24,
      "outputs": []
    },
    {
      "cell_type": "code",
      "source": [
        "import pandas as pd"
      ],
      "metadata": {
        "id": "-taU1Wa3TRSu"
      },
      "execution_count": 7,
      "outputs": []
    },
    {
      "cell_type": "code",
      "source": [
        "path=\"/Drishya_testcsv.csv\"\n",
        "df=pd.read_csv(path)\n",
        "df.head()"
      ],
      "metadata": {
        "id": "nR4vObOQTUcN"
      },
      "execution_count": null,
      "outputs": []
    },
    {
      "cell_type": "code",
      "source": [
        "# Function to read and split CSV data\n",
        "\n",
        "path = \"/Drishya_testcsv.csv\"\n",
        "\n",
        "df = pd.read_csv(path)\n",
        "\n",
        "names = df[\"Name\"].tolist()\n",
        "numbers = df[\"Number\"].tolist()\n",
        "df.head()\n",
        "\n",
        "print(\"Names:\", names[:])\n",
        "print(\"Numbers:\", numbers[:])"
      ],
      "metadata": {
        "colab": {
          "base_uri": "https://localhost:8080/"
        },
        "id": "Jvmcq4ysfh3_",
        "outputId": "09da3990-5210-4273-b86d-bbff75e48834"
      },
      "execution_count": 86,
      "outputs": [
        {
          "output_type": "stream",
          "name": "stdout",
          "text": [
            "Names: ['john', 'Alice', 'Bob', 'Shiva', 'Mouli', 'Anil', 'Chandu', 'Sandeep', 'Ram', 'Mike']\n",
            "Numbers: [153, 28, 6, 370, 371, 407, 2, 6, 496, 55]\n"
          ]
        }
      ]
    },
    {
      "cell_type": "code",
      "source": [
        "# Function to check if a number is an Armstrong number\n",
        "\n",
        "path = \"/Drishya_testcsv.csv\"\n",
        "df = pd.read_csv(path)\n",
        "\n",
        "def is_armstrong_number(number):\n",
        "    num_str = str(number)\n",
        "    num_digits = len(num_str)\n",
        "    armstrong_sum = sum(int(digit) ** num_digits for digit in num_str)\n",
        "    return armstrong_sum == number\n",
        "\n",
        "df['IsArmstrong'] = df['Number'].apply(is_armstrong_number)\n",
        "print(df)\n"
      ],
      "metadata": {
        "colab": {
          "base_uri": "https://localhost:8080/"
        },
        "id": "4RlEDGnrfhqt",
        "outputId": "70c59b46-3d4d-4735-cebc-f896ca485c46"
      },
      "execution_count": 87,
      "outputs": [
        {
          "output_type": "stream",
          "name": "stdout",
          "text": [
            "      Name  Number  IsArmstrong\n",
            "0     john     153         True\n",
            "1    Alice      28        False\n",
            "2      Bob       6         True\n",
            "3    Shiva     370         True\n",
            "4    Mouli     371         True\n",
            "5     Anil     407         True\n",
            "6   Chandu       2         True\n",
            "7  Sandeep       6         True\n",
            "8      Ram     496        False\n",
            "9     Mike      55        False\n"
          ]
        }
      ]
    },
    {
      "cell_type": "code",
      "source": [
        " # Function to check if a number is a Strong number\n",
        "def is_strong_number(number):\n",
        "    def factorial(n):\n",
        "        if n == 0:\n",
        "            return 1\n",
        "        return n * factorial(n - 1)\n",
        "\n",
        "    num_str = str(number)\n",
        "    sum_of_factorials = sum(factorial(int(digit)) for digit in num_str)\n",
        "    return sum_of_factorials == number\n",
        "\n",
        "df['IsStrong'] = df['Number'].apply(is_strong_number)\n",
        "print(df)"
      ],
      "metadata": {
        "id": "_v5_NO2arKSh"
      },
      "execution_count": null,
      "outputs": []
    },
    {
      "cell_type": "code",
      "source": [
        "# Function to check if a number is a Perfect number\n",
        "\n",
        "def is_perfect_number(number):\n",
        "    # Check if the number is positive\n",
        "    if number <= 0:\n",
        "        return False\n",
        "\n",
        "    divisors_sum = sum(i for i in range(1, number) if number % i == 0)\n",
        "    return divisors_sum == number\n",
        "\n",
        "df['IsPerfect'] = df['Number'].apply(is_perfect_number)\n",
        "print(df)\n"
      ],
      "metadata": {
        "colab": {
          "base_uri": "https://localhost:8080/"
        },
        "id": "48kC1huZkuSw",
        "outputId": "a9f51283-7457-4eb6-968b-66eddb77f360"
      },
      "execution_count": 88,
      "outputs": [
        {
          "output_type": "stream",
          "name": "stdout",
          "text": [
            "      Name  Number  IsArmstrong  IsPerfect\n",
            "0     john     153         True      False\n",
            "1    Alice      28        False       True\n",
            "2      Bob       6         True       True\n",
            "3    Shiva     370         True      False\n",
            "4    Mouli     371         True      False\n",
            "5     Anil     407         True      False\n",
            "6   Chandu       2         True      False\n",
            "7  Sandeep       6         True       True\n",
            "8      Ram     496        False       True\n",
            "9     Mike      55        False      False\n"
          ]
        }
      ]
    },
    {
      "cell_type": "code",
      "source": [
        "# Function to write JSON output\n",
        "\n",
        "path = \"/Drishya_testcsv.csv\"\n",
        "df = pd.read_csv(path)\n",
        "df.head()\n",
        "# Convert the DataFrame to JSON and write it to a file\n",
        "output_path = \"/output.json\"\n",
        "df.to_json(output_path, orient=\"records\", lines=True)\n",
        "df.head()\n"
      ],
      "metadata": {
        "colab": {
          "base_uri": "https://localhost:8080/",
          "height": 206
        },
        "id": "QicnKV0bqVdk",
        "outputId": "326d9cb0-7a4b-4960-8cbb-6896741a3f8d"
      },
      "execution_count": 89,
      "outputs": [
        {
          "output_type": "execute_result",
          "data": {
            "text/plain": [
              "    Name  Number\n",
              "0   john     153\n",
              "1  Alice      28\n",
              "2    Bob       6\n",
              "3  Shiva     370\n",
              "4  Mouli     371"
            ],
            "text/html": [
              "\n",
              "  <div id=\"df-ec84f6ab-32d7-4a43-9d71-94ae0f4f4d53\" class=\"colab-df-container\">\n",
              "    <div>\n",
              "<style scoped>\n",
              "    .dataframe tbody tr th:only-of-type {\n",
              "        vertical-align: middle;\n",
              "    }\n",
              "\n",
              "    .dataframe tbody tr th {\n",
              "        vertical-align: top;\n",
              "    }\n",
              "\n",
              "    .dataframe thead th {\n",
              "        text-align: right;\n",
              "    }\n",
              "</style>\n",
              "<table border=\"1\" class=\"dataframe\">\n",
              "  <thead>\n",
              "    <tr style=\"text-align: right;\">\n",
              "      <th></th>\n",
              "      <th>Name</th>\n",
              "      <th>Number</th>\n",
              "    </tr>\n",
              "  </thead>\n",
              "  <tbody>\n",
              "    <tr>\n",
              "      <th>0</th>\n",
              "      <td>john</td>\n",
              "      <td>153</td>\n",
              "    </tr>\n",
              "    <tr>\n",
              "      <th>1</th>\n",
              "      <td>Alice</td>\n",
              "      <td>28</td>\n",
              "    </tr>\n",
              "    <tr>\n",
              "      <th>2</th>\n",
              "      <td>Bob</td>\n",
              "      <td>6</td>\n",
              "    </tr>\n",
              "    <tr>\n",
              "      <th>3</th>\n",
              "      <td>Shiva</td>\n",
              "      <td>370</td>\n",
              "    </tr>\n",
              "    <tr>\n",
              "      <th>4</th>\n",
              "      <td>Mouli</td>\n",
              "      <td>371</td>\n",
              "    </tr>\n",
              "  </tbody>\n",
              "</table>\n",
              "</div>\n",
              "    <div class=\"colab-df-buttons\">\n",
              "\n",
              "  <div class=\"colab-df-container\">\n",
              "    <button class=\"colab-df-convert\" onclick=\"convertToInteractive('df-ec84f6ab-32d7-4a43-9d71-94ae0f4f4d53')\"\n",
              "            title=\"Convert this dataframe to an interactive table.\"\n",
              "            style=\"display:none;\">\n",
              "\n",
              "  <svg xmlns=\"http://www.w3.org/2000/svg\" height=\"24px\" viewBox=\"0 -960 960 960\">\n",
              "    <path d=\"M120-120v-720h720v720H120Zm60-500h600v-160H180v160Zm220 220h160v-160H400v160Zm0 220h160v-160H400v160ZM180-400h160v-160H180v160Zm440 0h160v-160H620v160ZM180-180h160v-160H180v160Zm440 0h160v-160H620v160Z\"/>\n",
              "  </svg>\n",
              "    </button>\n",
              "\n",
              "  <style>\n",
              "    .colab-df-container {\n",
              "      display:flex;\n",
              "      gap: 12px;\n",
              "    }\n",
              "\n",
              "    .colab-df-convert {\n",
              "      background-color: #E8F0FE;\n",
              "      border: none;\n",
              "      border-radius: 50%;\n",
              "      cursor: pointer;\n",
              "      display: none;\n",
              "      fill: #1967D2;\n",
              "      height: 32px;\n",
              "      padding: 0 0 0 0;\n",
              "      width: 32px;\n",
              "    }\n",
              "\n",
              "    .colab-df-convert:hover {\n",
              "      background-color: #E2EBFA;\n",
              "      box-shadow: 0px 1px 2px rgba(60, 64, 67, 0.3), 0px 1px 3px 1px rgba(60, 64, 67, 0.15);\n",
              "      fill: #174EA6;\n",
              "    }\n",
              "\n",
              "    .colab-df-buttons div {\n",
              "      margin-bottom: 4px;\n",
              "    }\n",
              "\n",
              "    [theme=dark] .colab-df-convert {\n",
              "      background-color: #3B4455;\n",
              "      fill: #D2E3FC;\n",
              "    }\n",
              "\n",
              "    [theme=dark] .colab-df-convert:hover {\n",
              "      background-color: #434B5C;\n",
              "      box-shadow: 0px 1px 3px 1px rgba(0, 0, 0, 0.15);\n",
              "      filter: drop-shadow(0px 1px 2px rgba(0, 0, 0, 0.3));\n",
              "      fill: #FFFFFF;\n",
              "    }\n",
              "  </style>\n",
              "\n",
              "    <script>\n",
              "      const buttonEl =\n",
              "        document.querySelector('#df-ec84f6ab-32d7-4a43-9d71-94ae0f4f4d53 button.colab-df-convert');\n",
              "      buttonEl.style.display =\n",
              "        google.colab.kernel.accessAllowed ? 'block' : 'none';\n",
              "\n",
              "      async function convertToInteractive(key) {\n",
              "        const element = document.querySelector('#df-ec84f6ab-32d7-4a43-9d71-94ae0f4f4d53');\n",
              "        const dataTable =\n",
              "          await google.colab.kernel.invokeFunction('convertToInteractive',\n",
              "                                                    [key], {});\n",
              "        if (!dataTable) return;\n",
              "\n",
              "        const docLinkHtml = 'Like what you see? Visit the ' +\n",
              "          '<a target=\"_blank\" href=https://colab.research.google.com/notebooks/data_table.ipynb>data table notebook</a>'\n",
              "          + ' to learn more about interactive tables.';\n",
              "        element.innerHTML = '';\n",
              "        dataTable['output_type'] = 'display_data';\n",
              "        await google.colab.output.renderOutput(dataTable, element);\n",
              "        const docLink = document.createElement('div');\n",
              "        docLink.innerHTML = docLinkHtml;\n",
              "        element.appendChild(docLink);\n",
              "      }\n",
              "    </script>\n",
              "  </div>\n",
              "\n",
              "\n",
              "<div id=\"df-21c4fc9d-cd4e-4807-8b76-97a93957b65d\">\n",
              "  <button class=\"colab-df-quickchart\" onclick=\"quickchart('df-21c4fc9d-cd4e-4807-8b76-97a93957b65d')\"\n",
              "            title=\"Suggest charts.\"\n",
              "            style=\"display:none;\">\n",
              "\n",
              "<svg xmlns=\"http://www.w3.org/2000/svg\" height=\"24px\"viewBox=\"0 0 24 24\"\n",
              "     width=\"24px\">\n",
              "    <g>\n",
              "        <path d=\"M19 3H5c-1.1 0-2 .9-2 2v14c0 1.1.9 2 2 2h14c1.1 0 2-.9 2-2V5c0-1.1-.9-2-2-2zM9 17H7v-7h2v7zm4 0h-2V7h2v10zm4 0h-2v-4h2v4z\"/>\n",
              "    </g>\n",
              "</svg>\n",
              "  </button>\n",
              "\n",
              "<style>\n",
              "  .colab-df-quickchart {\n",
              "      --bg-color: #E8F0FE;\n",
              "      --fill-color: #1967D2;\n",
              "      --hover-bg-color: #E2EBFA;\n",
              "      --hover-fill-color: #174EA6;\n",
              "      --disabled-fill-color: #AAA;\n",
              "      --disabled-bg-color: #DDD;\n",
              "  }\n",
              "\n",
              "  [theme=dark] .colab-df-quickchart {\n",
              "      --bg-color: #3B4455;\n",
              "      --fill-color: #D2E3FC;\n",
              "      --hover-bg-color: #434B5C;\n",
              "      --hover-fill-color: #FFFFFF;\n",
              "      --disabled-bg-color: #3B4455;\n",
              "      --disabled-fill-color: #666;\n",
              "  }\n",
              "\n",
              "  .colab-df-quickchart {\n",
              "    background-color: var(--bg-color);\n",
              "    border: none;\n",
              "    border-radius: 50%;\n",
              "    cursor: pointer;\n",
              "    display: none;\n",
              "    fill: var(--fill-color);\n",
              "    height: 32px;\n",
              "    padding: 0;\n",
              "    width: 32px;\n",
              "  }\n",
              "\n",
              "  .colab-df-quickchart:hover {\n",
              "    background-color: var(--hover-bg-color);\n",
              "    box-shadow: 0 1px 2px rgba(60, 64, 67, 0.3), 0 1px 3px 1px rgba(60, 64, 67, 0.15);\n",
              "    fill: var(--button-hover-fill-color);\n",
              "  }\n",
              "\n",
              "  .colab-df-quickchart-complete:disabled,\n",
              "  .colab-df-quickchart-complete:disabled:hover {\n",
              "    background-color: var(--disabled-bg-color);\n",
              "    fill: var(--disabled-fill-color);\n",
              "    box-shadow: none;\n",
              "  }\n",
              "\n",
              "  .colab-df-spinner {\n",
              "    border: 2px solid var(--fill-color);\n",
              "    border-color: transparent;\n",
              "    border-bottom-color: var(--fill-color);\n",
              "    animation:\n",
              "      spin 1s steps(1) infinite;\n",
              "  }\n",
              "\n",
              "  @keyframes spin {\n",
              "    0% {\n",
              "      border-color: transparent;\n",
              "      border-bottom-color: var(--fill-color);\n",
              "      border-left-color: var(--fill-color);\n",
              "    }\n",
              "    20% {\n",
              "      border-color: transparent;\n",
              "      border-left-color: var(--fill-color);\n",
              "      border-top-color: var(--fill-color);\n",
              "    }\n",
              "    30% {\n",
              "      border-color: transparent;\n",
              "      border-left-color: var(--fill-color);\n",
              "      border-top-color: var(--fill-color);\n",
              "      border-right-color: var(--fill-color);\n",
              "    }\n",
              "    40% {\n",
              "      border-color: transparent;\n",
              "      border-right-color: var(--fill-color);\n",
              "      border-top-color: var(--fill-color);\n",
              "    }\n",
              "    60% {\n",
              "      border-color: transparent;\n",
              "      border-right-color: var(--fill-color);\n",
              "    }\n",
              "    80% {\n",
              "      border-color: transparent;\n",
              "      border-right-color: var(--fill-color);\n",
              "      border-bottom-color: var(--fill-color);\n",
              "    }\n",
              "    90% {\n",
              "      border-color: transparent;\n",
              "      border-bottom-color: var(--fill-color);\n",
              "    }\n",
              "  }\n",
              "</style>\n",
              "\n",
              "  <script>\n",
              "    async function quickchart(key) {\n",
              "      const quickchartButtonEl =\n",
              "        document.querySelector('#' + key + ' button');\n",
              "      quickchartButtonEl.disabled = true;  // To prevent multiple clicks.\n",
              "      quickchartButtonEl.classList.add('colab-df-spinner');\n",
              "      try {\n",
              "        const charts = await google.colab.kernel.invokeFunction(\n",
              "            'suggestCharts', [key], {});\n",
              "      } catch (error) {\n",
              "        console.error('Error during call to suggestCharts:', error);\n",
              "      }\n",
              "      quickchartButtonEl.classList.remove('colab-df-spinner');\n",
              "      quickchartButtonEl.classList.add('colab-df-quickchart-complete');\n",
              "    }\n",
              "    (() => {\n",
              "      let quickchartButtonEl =\n",
              "        document.querySelector('#df-21c4fc9d-cd4e-4807-8b76-97a93957b65d button');\n",
              "      quickchartButtonEl.style.display =\n",
              "        google.colab.kernel.accessAllowed ? 'block' : 'none';\n",
              "    })();\n",
              "  </script>\n",
              "</div>\n",
              "    </div>\n",
              "  </div>\n"
            ]
          },
          "metadata": {},
          "execution_count": 89
        }
      ]
    },
    {
      "cell_type": "code",
      "source": [
        "# Function to write JSON output\n",
        "def write_json_output(data, output_file):\n",
        "    with open(output_file, 'w') as json_file:\n",
        "        json.dump(data, json_file, indent=2)\n",
        "df.head()"
      ],
      "metadata": {
        "colab": {
          "base_uri": "https://localhost:8080/",
          "height": 206
        },
        "id": "zcW9u2JQqVPN",
        "outputId": "8c1081d1-6e15-49e0-b098-a446c60ce29a"
      },
      "execution_count": 90,
      "outputs": [
        {
          "output_type": "execute_result",
          "data": {
            "text/plain": [
              "    Name  Number\n",
              "0   john     153\n",
              "1  Alice      28\n",
              "2    Bob       6\n",
              "3  Shiva     370\n",
              "4  Mouli     371"
            ],
            "text/html": [
              "\n",
              "  <div id=\"df-6734d6b7-449c-47b8-9b89-3a92d4742e27\" class=\"colab-df-container\">\n",
              "    <div>\n",
              "<style scoped>\n",
              "    .dataframe tbody tr th:only-of-type {\n",
              "        vertical-align: middle;\n",
              "    }\n",
              "\n",
              "    .dataframe tbody tr th {\n",
              "        vertical-align: top;\n",
              "    }\n",
              "\n",
              "    .dataframe thead th {\n",
              "        text-align: right;\n",
              "    }\n",
              "</style>\n",
              "<table border=\"1\" class=\"dataframe\">\n",
              "  <thead>\n",
              "    <tr style=\"text-align: right;\">\n",
              "      <th></th>\n",
              "      <th>Name</th>\n",
              "      <th>Number</th>\n",
              "    </tr>\n",
              "  </thead>\n",
              "  <tbody>\n",
              "    <tr>\n",
              "      <th>0</th>\n",
              "      <td>john</td>\n",
              "      <td>153</td>\n",
              "    </tr>\n",
              "    <tr>\n",
              "      <th>1</th>\n",
              "      <td>Alice</td>\n",
              "      <td>28</td>\n",
              "    </tr>\n",
              "    <tr>\n",
              "      <th>2</th>\n",
              "      <td>Bob</td>\n",
              "      <td>6</td>\n",
              "    </tr>\n",
              "    <tr>\n",
              "      <th>3</th>\n",
              "      <td>Shiva</td>\n",
              "      <td>370</td>\n",
              "    </tr>\n",
              "    <tr>\n",
              "      <th>4</th>\n",
              "      <td>Mouli</td>\n",
              "      <td>371</td>\n",
              "    </tr>\n",
              "  </tbody>\n",
              "</table>\n",
              "</div>\n",
              "    <div class=\"colab-df-buttons\">\n",
              "\n",
              "  <div class=\"colab-df-container\">\n",
              "    <button class=\"colab-df-convert\" onclick=\"convertToInteractive('df-6734d6b7-449c-47b8-9b89-3a92d4742e27')\"\n",
              "            title=\"Convert this dataframe to an interactive table.\"\n",
              "            style=\"display:none;\">\n",
              "\n",
              "  <svg xmlns=\"http://www.w3.org/2000/svg\" height=\"24px\" viewBox=\"0 -960 960 960\">\n",
              "    <path d=\"M120-120v-720h720v720H120Zm60-500h600v-160H180v160Zm220 220h160v-160H400v160Zm0 220h160v-160H400v160ZM180-400h160v-160H180v160Zm440 0h160v-160H620v160ZM180-180h160v-160H180v160Zm440 0h160v-160H620v160Z\"/>\n",
              "  </svg>\n",
              "    </button>\n",
              "\n",
              "  <style>\n",
              "    .colab-df-container {\n",
              "      display:flex;\n",
              "      gap: 12px;\n",
              "    }\n",
              "\n",
              "    .colab-df-convert {\n",
              "      background-color: #E8F0FE;\n",
              "      border: none;\n",
              "      border-radius: 50%;\n",
              "      cursor: pointer;\n",
              "      display: none;\n",
              "      fill: #1967D2;\n",
              "      height: 32px;\n",
              "      padding: 0 0 0 0;\n",
              "      width: 32px;\n",
              "    }\n",
              "\n",
              "    .colab-df-convert:hover {\n",
              "      background-color: #E2EBFA;\n",
              "      box-shadow: 0px 1px 2px rgba(60, 64, 67, 0.3), 0px 1px 3px 1px rgba(60, 64, 67, 0.15);\n",
              "      fill: #174EA6;\n",
              "    }\n",
              "\n",
              "    .colab-df-buttons div {\n",
              "      margin-bottom: 4px;\n",
              "    }\n",
              "\n",
              "    [theme=dark] .colab-df-convert {\n",
              "      background-color: #3B4455;\n",
              "      fill: #D2E3FC;\n",
              "    }\n",
              "\n",
              "    [theme=dark] .colab-df-convert:hover {\n",
              "      background-color: #434B5C;\n",
              "      box-shadow: 0px 1px 3px 1px rgba(0, 0, 0, 0.15);\n",
              "      filter: drop-shadow(0px 1px 2px rgba(0, 0, 0, 0.3));\n",
              "      fill: #FFFFFF;\n",
              "    }\n",
              "  </style>\n",
              "\n",
              "    <script>\n",
              "      const buttonEl =\n",
              "        document.querySelector('#df-6734d6b7-449c-47b8-9b89-3a92d4742e27 button.colab-df-convert');\n",
              "      buttonEl.style.display =\n",
              "        google.colab.kernel.accessAllowed ? 'block' : 'none';\n",
              "\n",
              "      async function convertToInteractive(key) {\n",
              "        const element = document.querySelector('#df-6734d6b7-449c-47b8-9b89-3a92d4742e27');\n",
              "        const dataTable =\n",
              "          await google.colab.kernel.invokeFunction('convertToInteractive',\n",
              "                                                    [key], {});\n",
              "        if (!dataTable) return;\n",
              "\n",
              "        const docLinkHtml = 'Like what you see? Visit the ' +\n",
              "          '<a target=\"_blank\" href=https://colab.research.google.com/notebooks/data_table.ipynb>data table notebook</a>'\n",
              "          + ' to learn more about interactive tables.';\n",
              "        element.innerHTML = '';\n",
              "        dataTable['output_type'] = 'display_data';\n",
              "        await google.colab.output.renderOutput(dataTable, element);\n",
              "        const docLink = document.createElement('div');\n",
              "        docLink.innerHTML = docLinkHtml;\n",
              "        element.appendChild(docLink);\n",
              "      }\n",
              "    </script>\n",
              "  </div>\n",
              "\n",
              "\n",
              "<div id=\"df-25ec9ab5-b3c6-4e59-8c5d-abc323f2d20a\">\n",
              "  <button class=\"colab-df-quickchart\" onclick=\"quickchart('df-25ec9ab5-b3c6-4e59-8c5d-abc323f2d20a')\"\n",
              "            title=\"Suggest charts.\"\n",
              "            style=\"display:none;\">\n",
              "\n",
              "<svg xmlns=\"http://www.w3.org/2000/svg\" height=\"24px\"viewBox=\"0 0 24 24\"\n",
              "     width=\"24px\">\n",
              "    <g>\n",
              "        <path d=\"M19 3H5c-1.1 0-2 .9-2 2v14c0 1.1.9 2 2 2h14c1.1 0 2-.9 2-2V5c0-1.1-.9-2-2-2zM9 17H7v-7h2v7zm4 0h-2V7h2v10zm4 0h-2v-4h2v4z\"/>\n",
              "    </g>\n",
              "</svg>\n",
              "  </button>\n",
              "\n",
              "<style>\n",
              "  .colab-df-quickchart {\n",
              "      --bg-color: #E8F0FE;\n",
              "      --fill-color: #1967D2;\n",
              "      --hover-bg-color: #E2EBFA;\n",
              "      --hover-fill-color: #174EA6;\n",
              "      --disabled-fill-color: #AAA;\n",
              "      --disabled-bg-color: #DDD;\n",
              "  }\n",
              "\n",
              "  [theme=dark] .colab-df-quickchart {\n",
              "      --bg-color: #3B4455;\n",
              "      --fill-color: #D2E3FC;\n",
              "      --hover-bg-color: #434B5C;\n",
              "      --hover-fill-color: #FFFFFF;\n",
              "      --disabled-bg-color: #3B4455;\n",
              "      --disabled-fill-color: #666;\n",
              "  }\n",
              "\n",
              "  .colab-df-quickchart {\n",
              "    background-color: var(--bg-color);\n",
              "    border: none;\n",
              "    border-radius: 50%;\n",
              "    cursor: pointer;\n",
              "    display: none;\n",
              "    fill: var(--fill-color);\n",
              "    height: 32px;\n",
              "    padding: 0;\n",
              "    width: 32px;\n",
              "  }\n",
              "\n",
              "  .colab-df-quickchart:hover {\n",
              "    background-color: var(--hover-bg-color);\n",
              "    box-shadow: 0 1px 2px rgba(60, 64, 67, 0.3), 0 1px 3px 1px rgba(60, 64, 67, 0.15);\n",
              "    fill: var(--button-hover-fill-color);\n",
              "  }\n",
              "\n",
              "  .colab-df-quickchart-complete:disabled,\n",
              "  .colab-df-quickchart-complete:disabled:hover {\n",
              "    background-color: var(--disabled-bg-color);\n",
              "    fill: var(--disabled-fill-color);\n",
              "    box-shadow: none;\n",
              "  }\n",
              "\n",
              "  .colab-df-spinner {\n",
              "    border: 2px solid var(--fill-color);\n",
              "    border-color: transparent;\n",
              "    border-bottom-color: var(--fill-color);\n",
              "    animation:\n",
              "      spin 1s steps(1) infinite;\n",
              "  }\n",
              "\n",
              "  @keyframes spin {\n",
              "    0% {\n",
              "      border-color: transparent;\n",
              "      border-bottom-color: var(--fill-color);\n",
              "      border-left-color: var(--fill-color);\n",
              "    }\n",
              "    20% {\n",
              "      border-color: transparent;\n",
              "      border-left-color: var(--fill-color);\n",
              "      border-top-color: var(--fill-color);\n",
              "    }\n",
              "    30% {\n",
              "      border-color: transparent;\n",
              "      border-left-color: var(--fill-color);\n",
              "      border-top-color: var(--fill-color);\n",
              "      border-right-color: var(--fill-color);\n",
              "    }\n",
              "    40% {\n",
              "      border-color: transparent;\n",
              "      border-right-color: var(--fill-color);\n",
              "      border-top-color: var(--fill-color);\n",
              "    }\n",
              "    60% {\n",
              "      border-color: transparent;\n",
              "      border-right-color: var(--fill-color);\n",
              "    }\n",
              "    80% {\n",
              "      border-color: transparent;\n",
              "      border-right-color: var(--fill-color);\n",
              "      border-bottom-color: var(--fill-color);\n",
              "    }\n",
              "    90% {\n",
              "      border-color: transparent;\n",
              "      border-bottom-color: var(--fill-color);\n",
              "    }\n",
              "  }\n",
              "</style>\n",
              "\n",
              "  <script>\n",
              "    async function quickchart(key) {\n",
              "      const quickchartButtonEl =\n",
              "        document.querySelector('#' + key + ' button');\n",
              "      quickchartButtonEl.disabled = true;  // To prevent multiple clicks.\n",
              "      quickchartButtonEl.classList.add('colab-df-spinner');\n",
              "      try {\n",
              "        const charts = await google.colab.kernel.invokeFunction(\n",
              "            'suggestCharts', [key], {});\n",
              "      } catch (error) {\n",
              "        console.error('Error during call to suggestCharts:', error);\n",
              "      }\n",
              "      quickchartButtonEl.classList.remove('colab-df-spinner');\n",
              "      quickchartButtonEl.classList.add('colab-df-quickchart-complete');\n",
              "    }\n",
              "    (() => {\n",
              "      let quickchartButtonEl =\n",
              "        document.querySelector('#df-25ec9ab5-b3c6-4e59-8c5d-abc323f2d20a button');\n",
              "      quickchartButtonEl.style.display =\n",
              "        google.colab.kernel.accessAllowed ? 'block' : 'none';\n",
              "    })();\n",
              "  </script>\n",
              "</div>\n",
              "    </div>\n",
              "  </div>\n"
            ]
          },
          "metadata": {},
          "execution_count": 90
        }
      ]
    },
    {
      "cell_type": "code",
      "source": [
        "# Function to process data\n",
        "\n",
        "def process_data(csv_path):\n",
        "    try:\n",
        "        df = pd.read_csv(csv_path)\n",
        "        print(df.head())\n",
        "\n",
        "        return df\n",
        "    except FileNotFoundError:\n",
        "        print(f\"File not found at path: {csv_path}\")\n",
        "        return None\n",
        "\n",
        "csv_path = \"/Drishya_testcsv.csv\"\n",
        "\n",
        "processed_df = process_data(csv_path)\n"
      ],
      "metadata": {
        "id": "b7f82gJSrTfe",
        "colab": {
          "base_uri": "https://localhost:8080/"
        },
        "outputId": "70b21653-29aa-4330-c9c7-211f3994bde0"
      },
      "execution_count": 94,
      "outputs": [
        {
          "output_type": "stream",
          "name": "stdout",
          "text": [
            "    Name  Number\n",
            "0   john     153\n",
            "1  Alice      28\n",
            "2    Bob       6\n",
            "3  Shiva     370\n",
            "4  Mouli     371\n"
          ]
        }
      ]
    },
    {
      "cell_type": "code",
      "source": [
        "import pandas as pd\n",
        "import json\n",
        "\n",
        "class DataProcessor:\n",
        "    def __init__(self, csv_path):\n",
        "        self.csv_path = csv_path\n",
        "        self.data = None\n",
        "\n",
        "    def load_data(self):\n",
        "        try:\n",
        "            # Read the CSV data into a DataFrame\n",
        "            self.data = pd.read_csv(self.csv_path)\n",
        "            return True\n",
        "        except FileNotFoundError:\n",
        "            print(f\"File not found at path: {self.csv_path}\")\n",
        "            return False\n",
        "\n",
        "    def is_armstrong_number(self, number):\n",
        "        num_str = str(number)\n",
        "        num_digits = len(num_str)\n",
        "        armstrong_sum = sum(int(digit) ** num_digits for digit in num_str)\n",
        "        return armstrong_sum == number\n",
        "\n",
        "    def is_strong_number(self, number):\n",
        "        # Implement the logic to check if a number is strong\n",
        "        pass\n",
        "\n",
        "    def is_perfect_number(self, number):\n",
        "        # Implement the logic to check if a number is perfect\n",
        "        pass\n",
        "\n",
        "    def process_data(self):\n",
        "        if self.data is None:\n",
        "            print(\"Data not loaded. Please call load_data() first.\")\n",
        "            return\n",
        "\n",
        "        # Initialize a list to store the results\n",
        "        results = []\n",
        "\n",
        "        for _, row in self.data.iterrows():\n",
        "            name = row['Name']\n",
        "            number = int(row['Number'])\n",
        "\n",
        "            # Calculate properties\n",
        "            is_armstrong = self.is_armstrong_number(number)\n",
        "            # You can add more calculations for is_strong and is_perfect here\n",
        "\n",
        "            # Create a result dictionary\n",
        "            result = {\n",
        "                \"Name\": name,\n",
        "                \"Number\": number,\n",
        "                \"IsArmstrong\": is_armstrong,\n",
        "                # Add properties for is_strong and is_perfect here\n",
        "            }\n",
        "\n",
        "            results.append(result)\n",
        "\n",
        "        # Write the results to a JSON file\n",
        "        output_file = \"output.json\"\n",
        "        with open(output_file, 'w') as json_file:\n",
        "            json.dump(results, json_file, indent=4)\n",
        "\n",
        "        print(f\"Results written to {output_file}\")\n",
        "\n",
        "# Example usage:\n",
        "csv_path = \"/Drishya_testcsv.csv\"  # Update the path as needed\n",
        "processor = DataProcessor(csv_path)\n",
        "if processor.load_data():\n",
        "    processor.process_data()\n"
      ],
      "metadata": {
        "colab": {
          "base_uri": "https://localhost:8080/"
        },
        "id": "V4fNpeOpXcXD",
        "outputId": "44c74747-de04-4ca9-aead-09478e3a1dd2"
      },
      "execution_count": 93,
      "outputs": [
        {
          "output_type": "stream",
          "name": "stdout",
          "text": [
            "Results written to output.json\n"
          ]
        }
      ]
    },
    {
      "cell_type": "code",
      "source": [
        "import os\n",
        "os.getcwd()\n"
      ],
      "metadata": {
        "colab": {
          "base_uri": "https://localhost:8080/",
          "height": 36
        },
        "id": "9SK-HlqbYZ1P",
        "outputId": "b1fe396f-6c80-4276-8a1d-0162a8dda44f"
      },
      "execution_count": 95,
      "outputs": [
        {
          "output_type": "execute_result",
          "data": {
            "text/plain": [
              "'/content'"
            ],
            "application/vnd.google.colaboratory.intrinsic+json": {
              "type": "string"
            }
          },
          "metadata": {},
          "execution_count": 95
        }
      ]
    },
    {
      "cell_type": "code",
      "source": [
        "from google.colab import files\n",
        "files.download(\"output.json\")\n"
      ],
      "metadata": {
        "id": "qZpQtQ4GYfEA"
      },
      "execution_count": null,
      "outputs": []
    },
    {
      "cell_type": "markdown",
      "source": [
        "#Additional Features/Extended **Implementations**"
      ],
      "metadata": {
        "id": "4XQOxpgyb-TN"
      }
    },
    {
      "cell_type": "markdown",
      "source": [
        "Error handling: Handle cases where the input data is invalid or the file\n",
        "operations fail."
      ],
      "metadata": {
        "id": "nLhp-_PvcPjl"
      }
    },
    {
      "cell_type": "markdown",
      "source": [
        "**Check for Invalid Data**: Before processing the data, you can add validation checks to ensure that the CSV data is in the expected format. For example, you can check if the CSV file contains the required columns and data types."
      ],
      "metadata": {
        "id": "DsYafHFdcb1U"
      }
    },
    {
      "cell_type": "code",
      "source": [
        "def validate_input_data(self):\n",
        "    if self.data is None:\n",
        "        print(\"Data not loaded. Please call load_data() first.\")\n",
        "        return False\n",
        "    return True\n",
        "\n"
      ],
      "metadata": {
        "id": "JIFPoYYfcg78"
      },
      "execution_count": 104,
      "outputs": []
    },
    {
      "cell_type": "markdown",
      "source": [
        "**Error Messages:** When validation fails or if any other issues related to invalid input data arise, you should provide informative error messages to help users understand what went wrong."
      ],
      "metadata": {
        "id": "l8kTtVebdbwM"
      }
    },
    {
      "cell_type": "code",
      "source": [
        "def load_data(self):\n",
        "    try:\n",
        "        # Read the CSV data into a DataFrame\n",
        "        self.data = pd.read_csv(self.csv_path)\n",
        "        return True\n",
        "    except FileNotFoundError:\n",
        "        print(f\"File not found at path: {self.csv_path}\")\n",
        "        return False\n",
        "    except pd.errors.EmptyDataError:\n",
        "        print(\"CSV file is empty.\")\n",
        "        return False\n",
        "    except pd.errors.ParserError:\n",
        "        print(\"Invalid CSV format.\")\n",
        "        return False\n",
        "\n"
      ],
      "metadata": {
        "id": "RckNpWardds4"
      },
      "execution_count": 108,
      "outputs": []
    },
    {
      "cell_type": "code",
      "source": [],
      "metadata": {
        "id": "ZdN3RmZ7cR71"
      },
      "execution_count": null,
      "outputs": []
    },
    {
      "cell_type": "markdown",
      "source": [
        "**Performance optimizations:** Optimize your code for efficiency, especially if\n",
        "dealing with large datasets."
      ],
      "metadata": {
        "id": "__FYmvgffq2W"
      }
    },
    {
      "cell_type": "markdown",
      "source": [
        "To optimize your code for efficiency, especially when dealing with potentially large datasets, you can consider the following strategies:"
      ],
      "metadata": {
        "id": "3ym8d9Vkffoo"
      }
    },
    {
      "cell_type": "code",
      "source": [
        "import pandas as pd\n",
        "\n",
        "# Lazy loading using a generator\n",
        "def read_csv_lazy(file_path, batch_size=100):\n",
        "    reader = pd.read_csv(file_path, chunksize=batch_size)\n",
        "    for chunk in reader:\n",
        "        yield chunk\n",
        "\n",
        "# Process data in batches\n",
        "def process_data_batch(data_batch):\n",
        "    # Implement your processing logic for a batch here\n",
        "    pass\n",
        "\n",
        "# Main processing loop\n",
        "def main_processing(csv_path):\n",
        "    batch_size = 100\n",
        "    for data_batch in read_csv_lazy(csv_path, batch_size=batch_size):\n",
        "        process_data_batch(data_batch)\n",
        "\n",
        "# Example usage\n",
        "if __name__ == \"__main__\":\n",
        "    csv_path = \"/Drishya_testcsv.csv\"\n",
        "    main_processing(csv_path)\n"
      ],
      "metadata": {
        "id": "pt8-JcUjgJwo"
      },
      "execution_count": 113,
      "outputs": []
    },
    {
      "cell_type": "code",
      "source": [],
      "metadata": {
        "id": "NAjRAbAlgXoa"
      },
      "execution_count": null,
      "outputs": []
    },
    {
      "cell_type": "markdown",
      "source": [
        "**Unit tests:** Write unit tests to ensure the correctness of your functions."
      ],
      "metadata": {
        "id": "9EdRTrVMlRZC"
      }
    },
    {
      "cell_type": "code",
      "source": [
        "import unittest\n"
      ],
      "metadata": {
        "id": "iFtsjHL0lR-b"
      },
      "execution_count": 4,
      "outputs": []
    },
    {
      "cell_type": "code",
      "source": [
        "class TestMyFunctions(unittest.TestCase):\n",
        "    def test_is_armstrong_number(self):\n",
        "        self.assertTrue(is_armstrong_number(153))\n",
        "        self.assertFalse(is_armstrong_number(370))\n",
        "\n",
        "    def test_is_strong_number(self):\n",
        "        self.assertTrue(is_strong_number(145))\n",
        "        self.assertFalse(is_strong_number(123))\n",
        "\n",
        "    def test_is_perfect_number(self):\n",
        "        self.assertTrue(is_perfect_number(28))\n",
        "        self.assertFalse(is_perfect_number(12))\n"
      ],
      "metadata": {
        "id": "yu18jxsQlVuy"
      },
      "execution_count": 5,
      "outputs": []
    },
    {
      "cell_type": "code",
      "source": [
        "if __name__ == '__main__':\n",
        "  unittest.main()\n"
      ],
      "metadata": {
        "colab": {
          "base_uri": "https://localhost:8080/",
          "height": 346
        },
        "id": "fHJKhjIElaSg",
        "outputId": "5f4f1d3f-1a85-4f06-cbaa-e0d2d399654e"
      },
      "execution_count": 6,
      "outputs": [
        {
          "output_type": "stream",
          "name": "stderr",
          "text": [
            "E\n",
            "======================================================================\n",
            "ERROR: /root/ (unittest.loader._FailedTest)\n",
            "----------------------------------------------------------------------\n",
            "AttributeError: module '__main__' has no attribute '/root/'\n",
            "\n",
            "----------------------------------------------------------------------\n",
            "Ran 1 test in 0.008s\n",
            "\n",
            "FAILED (errors=1)\n"
          ]
        },
        {
          "output_type": "error",
          "ename": "SystemExit",
          "evalue": "ignored",
          "traceback": [
            "An exception has occurred, use %tb to see the full traceback.\n",
            "\u001b[0;31mSystemExit\u001b[0m\u001b[0;31m:\u001b[0m True\n"
          ]
        },
        {
          "output_type": "stream",
          "name": "stderr",
          "text": [
            "/usr/local/lib/python3.10/dist-packages/IPython/core/interactiveshell.py:3561: UserWarning: To exit: use 'exit', 'quit', or Ctrl-D.\n",
            "  warn(\"To exit: use 'exit', 'quit', or Ctrl-D.\", stacklevel=1)\n"
          ]
        }
      ]
    }
  ]
}